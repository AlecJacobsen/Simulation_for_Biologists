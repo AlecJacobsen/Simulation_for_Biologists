{
 "cells": [
  {
   "cell_type": "markdown",
   "id": "b92e5d05-c8c8-4a57-a89c-b1456c0ea66b",
   "metadata": {
    "tags": []
   },
   "source": [
    "# Simulating the Luria-Delbrück Experiment"
   ]
  },
  {
   "cell_type": "markdown",
   "id": "6d5fb632-ae7c-4afd-bf7d-8ec429be2cf2",
   "metadata": {},
   "source": [
    "### Are mutations induced or do they arise spontaneously?\n",
    "\n",
    "This was the question faced by Salvador Lauria and Max Delbrück in 1943 when they devised their seminal fluctuation test experiment. As a modern student of biology, the answer may seem obvious, but at the time it remained a mystery. The inspiration for such a question comes from observing the interaction between bacteria and bacteria phages (i.e. viruses that infect bacteria). A colony of bacteria growing in a flask will eventually turn the medium in the flask cloudy as the number of cells increases. It was noted that adding an equal number of bacteria phages to the flask would clear the water, as the bacteria phages lysed open the bacterial cells. However, after some time the medium in the flask would become cloudy again. This is because the bacterial colony had developed mutations in its genomes that granted resistance to the phages. The question was then \"how did these resistance mutations come about?\""
   ]
  },
  {
   "cell_type": "markdown",
   "id": "bace87c4-326f-4e4a-b23d-f3c5fdcf7099",
   "metadata": {},
   "source": [
    "<img src='graphics/Grupo_de_los_Fagos-239509034.jpeg'/> \n",
    "\n"
   ]
  },
  {
   "cell_type": "markdown",
   "id": "dbf1e1cf-6b26-4557-8b55-a61e6b1631b9",
   "metadata": {},
   "source": [
    "Lauria and Delbrück proposed two simple models for the evolution of resistance:\n",
    "\n",
    "**1) Mutations in the bacteria genomes resulting in resistance occurred in response to the bacteria phage (i.e. mutations were induced)**\n",
    "\n",
    "or \n",
    "\n",
    "**2) Mutations occurred spontaneously during colony growth, and bacteria carrying these mutations were already resistant prior to exposure to the phage**\n",
    "\n",
    "***\n",
    "\n",
    "To determine which model was correct, they devised an experiment known as the **fluctuation test**. This test proceeded as follows:\n",
    "\n",
    "First a colony of non-resistant bacteria were grown in a flask. These bacteria were then used to innoculate media in (e.g. 11) identical test tubes. The bacteria where then allowed to grow in these test tubes until they were at a certain cell density. The test tubes were then split into two groups - for the purposes of this notebook, we will call these groups A and B. One tube was put into group A, and from this tube 10 plates, already containing bacteria phages, were innoculated with bacteria. The other 10 tubes constituted group B, and from each tube a single plate, again contaning bacteria phages, was inoculated with bacteria. The number of resistant colonies were then counted on each plate.\n",
    "\n",
    "<img src='graphics/luria1.webp'/>\n",
    "\n",
    "**If the first model is true, then we would expect that the variance in the number of resistant colonies per plate would be the same for parts A and B.** This is because resistance is induced at a certain rate once the bacteria are plated out, and would not depend on what had happened while the bacteria grew in the test tubes. In other words, each plate would be an independant sample, regardless of if the bacteria came from the same test tube or not - hence equal variances.\n",
    "\n",
    "**If the second model is true, then we would expect the variance to be far greater for part B than for part A.** This is due to the fact that the resistance mutation occurs spontaneously during growth in the test tube. When plating out part A, the number of resistant colonies is representative of the frequency of resistance in the single tube, so each plate is not independant. On the other hand, in part B each tube has had an independant phase of growth, during which resistance may have spontaneously evolved early on, resulting in a high frequency of resistant colonies, or later on, resulting in few resistant colonies. This independance results in a large variance.  "
   ]
  },
  {
   "cell_type": "markdown",
   "id": "66ff691e-7452-46ec-8b77-286ce4ef0eec",
   "metadata": {},
   "source": [
    "<img src='graphics/The-Luria-and-Delbrueck-experiment-In-1943-Luria-and-Delbrueck-devised-an-experiment-to-4102026779.png'/>"
   ]
  },
  {
   "cell_type": "markdown",
   "id": "21335ac3-020f-4016-a93d-d20eeeef4f90",
   "metadata": {},
   "source": [
    "Prior to performing their experiment, Delbrück developed a theoretical framework from which he derived an expectation for what the variance would be under both models. When Luria performed the experiment, they found that the data matched the expectation for the second model. However, what if you were in their place? How would you develop an expectation for the variance for experiments A and B? \n",
    "\n",
    "Further, how could you decide on the specifics of this experiment? How many replicates would you need, or how many bacteria would you plate out? How many generations would need to be run to see an effect at the mutation rate you would expect? How would random variation in the number of cells plated out between replicates bias the results? Additionally, the experiment relies on the assumption that there is no standing genetic variance for resistance in the ancestral bacteria. How would violating this assumption effect the results?\n",
    "\n",
    "To answer these questions and gain an intuition for the limitations of this experimental design, **lets simulate!!**\n",
    "\n",
    "***\n",
    "\n",
    "#### But how can we go about simulating something like this? \n",
    "Heres a recommendation for how to start with a simulation in general:\n",
    "\n",
    "1) **Develop a good mental model** - make sure you understand the biology and the techical aspects of what you want to simulate.\n",
    "2) **Break it down into subprocesses** - what are the different steps involved going from initialization to final product?\n",
    "3) **Describe in (painful) detail how each subprocess works** - pretend like you to have to describe it to an alien who has never been to earth and knows nothing how the subprocess works. No detail is too insignificant! Be sure to think about potential biases.\n",
    "4) **Convert those descriptions into pseudocode, keeping in mind which data sctructures you will use** - think about which functions you will use where, and how you will store and manage your data. What is an efficent way to code this process? Do this with a pen and paper to figure out exactly how your algorithm will work.\n",
    "5) **Make the pseudocode actual code** \n",
    "\n",
    "***\n",
    "\n",
    "#### Lets see how we can do this for the Luria-Delbrück experiment \n",
    "For now we will just focus on the 2nd model, the one of spontaneous mutation.\n",
    "\n",
    "The subprocesses and their descriptions are:\n",
    "- **Initializing an ancestral population**\n",
    "    - Create a flask with a large population of non-resistant bacteria\n",
    "- **Sampling the ancestral population to create the test tubes**\n",
    "    - Randomly select n_0 cells from the ancestral flask and put these cells into new medium. Create 1 tube for part A and r tubes for part B. \n",
    "- **Growing the cultures**\n",
    "    - In each generation, every cell produces two children cells. When the children cells are formed, there is a chance that each child will mutate some resistance. These children then become the parents for the next generation. This process repeats for T generations.  \n",
    "- **Plating out**\n",
    "    - For part A:\n",
    "        - Randomly sample n_sample cells without replacement from the A tube for each of r number of plates\n",
    "    - For part B:\n",
    "        - Randomly sample n_sample cells without replacement from each of r tubes for part B to create one plate per tube\n",
    "- **Computing the variance**\n",
    "    - For each plate, count the number of resistant colonies, then calculate the variances for parts A and B\n",
    "\n",
    "\n",
    "\n"
   ]
  },
  {
   "cell_type": "markdown",
   "id": "5b2b6e09-50e2-4142-8bb1-6b2d642f4f6a",
   "metadata": {
    "tags": []
   },
   "source": [
    "# Now lets see how we would implement this in Python"
   ]
  },
  {
   "cell_type": "code",
   "execution_count": 3,
   "id": "33181c7e-f1bd-4460-852f-15593b1c614b",
   "metadata": {},
   "outputs": [],
   "source": [
    "import numpy as np\n",
    "import matplotlib.pyplot as plt\n",
    "import seaborn as sns\n",
    "from collections import Counter"
   ]
  },
  {
   "cell_type": "code",
   "execution_count": 254,
   "id": "848b2203-7ecc-46d1-b581-d7b9bd326462",
   "metadata": {},
   "outputs": [],
   "source": [
    "T = 14 # Number of generations\n",
    "n_0 = 100 # Number of cells to in a tube\n",
    "mu = 1e-3 # Mutation rate\n",
    "r = 50 # Number of plates (A) or tubes (B) \n",
    "n_sample = 10000 # Number of cells to plate"
   ]
  },
  {
   "cell_type": "markdown",
   "id": "b968d1b5-0f0e-440a-a6ab-6c7fc3e8ab0c",
   "metadata": {},
   "source": [
    "### Step 1. Simulation of passaging cells in a tube from a flask\n",
    "Let parents be vector of $n_0$ zeros, representing $n_0$ wild type cells. For now, we (as in the original paper) assume that there are no standing genetic variation in these cells. Later you are free to relax this assumption and investigate how the presence of standing genetic variation in this step might affect the result."
   ]
  },
  {
   "cell_type": "code",
   "execution_count": 14,
   "id": "685ef88c-4989-4c8a-99f6-d3b5d5fb1720",
   "metadata": {},
   "outputs": [],
   "source": [
    "parents = [0]*n_0"
   ]
  },
  {
   "cell_type": "markdown",
   "id": "9d0ff6db-cbe5-40ea-ab99-8dd208eeaf4e",
   "metadata": {},
   "source": [
    "### Step 2. Growth\n",
    "Let cells replicate $T$ times and mutate. First, try it with small $T$"
   ]
  },
  {
   "cell_type": "code",
   "execution_count": 15,
   "id": "02245928-aa3b-4f37-8eb8-19c315db068f",
   "metadata": {},
   "outputs": [
    {
     "data": {
      "text/plain": [
       "Counter({0: 3181, 1: 19})"
      ]
     },
     "execution_count": 15,
     "metadata": {},
     "output_type": "execute_result"
    }
   ],
   "source": [
    "T_test = 5\n",
    "# Loop over T generations \n",
    "for t in range(T_test):\n",
    "    # Initialise a vector children, into which we put genotype of daughter cells\n",
    "    children = []\n",
    "    # Loop over parent cells\n",
    "    # In each iteration, `cell` is the genotype of focal cell\n",
    "    for cell in parents:\n",
    "        # Loop over two daughter cells\n",
    "        for i in range(2):\n",
    "            # Bernoulli sampling of mutation\n",
    "            # Mutation is represented as addition of 1\n",
    "            # The genotype of the focal daughter cell is appended \n",
    "            children.append(cell + np.random.binomial(1, mu))\n",
    "    # vector parents is updated\n",
    "    parents = children\n",
    "# frequency distribution of cells freq(genotype == x)\n",
    "Counter(parents)\n",
    "## Dont forget to reset the parents array before running this again! "
   ]
  },
  {
   "cell_type": "markdown",
   "id": "0afe7a9b-15fe-4ed9-a4ed-5deab4cd9601",
   "metadata": {},
   "source": [
    "Entries greater than 1 are converted into 1 because cells whose ancestors experienced at least one muation are resistant."
   ]
  },
  {
   "cell_type": "code",
   "execution_count": 17,
   "id": "f3ea2fba-32d5-45a1-9c1d-77c737a6b20b",
   "metadata": {},
   "outputs": [
    {
     "data": {
      "text/plain": [
       "Counter({0: 3181, 1: 19})"
      ]
     },
     "execution_count": 17,
     "metadata": {},
     "output_type": "execute_result"
    }
   ],
   "source": [
    "parents = [1 if value > 0 else 0 for value in parents] \n",
    "Counter(parents)"
   ]
  },
  {
   "cell_type": "markdown",
   "id": "c786cfe2-f13f-4bf2-99f3-fbcdf739fcd6",
   "metadata": {
    "tags": []
   },
   "source": [
    "# Initial optimisation of steps 1 and 2\n",
    "The interior nested for loops in the above code block can be substituted with a single binomial sampling of `n = 2 * length(parents)` ($= n\\_0 × 2t $). We can directly update parents instead of making an intermediate vector children. And without children naming of parents wouldn’t make sense, so let us call the array genotypes. Also, things will run much faster if we switch to numpy arrays at this point."
   ]
  },
  {
   "cell_type": "code",
   "execution_count": 36,
   "id": "386f38d9-15cf-4db7-8788-779c063333b5",
   "metadata": {},
   "outputs": [
    {
     "data": {
      "text/plain": [
       "Counter({0: 1622843, 1: 15557})"
      ]
     },
     "execution_count": 36,
     "metadata": {},
     "output_type": "execute_result"
    }
   ],
   "source": [
    "genotypes = np.zeros(n_0)\n",
    "\n",
    "for t in range(T):\n",
    "    genotypes = np.concatenate((genotypes, genotypes)) + np.random.binomial(1,mu, size = genotypes.shape[0] *2)\n",
    "    \n",
    "genotypes = (genotypes > 0).astype(int)\n",
    "Counter(genotypes)"
   ]
  },
  {
   "cell_type": "markdown",
   "id": "cd800ec4-af28-46fd-af6f-f13f79acc0a8",
   "metadata": {},
   "source": [
    "The number of resistant cells after $T$ generations is the sum of the array."
   ]
  },
  {
   "cell_type": "code",
   "execution_count": 39,
   "id": "c51f467f-e71b-4cfd-80dc-6be8afcb78f9",
   "metadata": {},
   "outputs": [
    {
     "data": {
      "text/plain": [
       "15557"
      ]
     },
     "execution_count": 39,
     "metadata": {},
     "output_type": "execute_result"
    }
   ],
   "source": [
    "genotypes.sum()"
   ]
  },
  {
   "cell_type": "markdown",
   "id": "b8734dce-6eea-4ad9-ae35-f4cf7b92c303",
   "metadata": {},
   "source": [
    "### Make a function `sim_tube` for steps 1 and 2 \n",
    "Let’s make a function for steps 1 and 2.\n"
   ]
  },
  {
   "cell_type": "code",
   "execution_count": 40,
   "id": "eeefdbb8-c643-4bad-ad2f-5d725757601f",
   "metadata": {},
   "outputs": [],
   "source": [
    "def sim_tube(T, mu, n_0):\n",
    "    genotypes = np.zeros(n_0)\n",
    "    for t in range(T):\n",
    "        genotypes = np.concatenate((genotypes, genotypes)) + np.random.binomial(1,mu, size = genotypes.shape[0] *2)\n",
    "    return (genotypes > 0).astype(int)"
   ]
  },
  {
   "cell_type": "markdown",
   "id": "cb3e1c4e-9a29-495b-a4f9-221552129035",
   "metadata": {},
   "source": [
    "Let’s simulate a tube and count the number of resistant cells"
   ]
  },
  {
   "cell_type": "code",
   "execution_count": 41,
   "id": "01829557-e518-4ad4-89f9-4152fde9ddd2",
   "metadata": {},
   "outputs": [
    {
     "data": {
      "text/plain": [
       "17035"
      ]
     },
     "execution_count": 41,
     "metadata": {},
     "output_type": "execute_result"
    }
   ],
   "source": [
    "tube = sim_tube(T, mu, n_0)\n",
    "tube.sum()"
   ]
  },
  {
   "cell_type": "markdown",
   "id": "9a6d0b9c-f80b-4d4b-9053-318d4060eeea",
   "metadata": {},
   "source": [
    "Let’s see if this function actually does a right job. If we let $T = 1$, then the number of resistant cells should be around $2n_0μ$. So, when $μ$ = 0.5 and $n_0$ = 500, there should be around 500 resistant cells. Let’s simulate it 1,000 times and check the distribution of the number of resistant cells.\n"
   ]
  },
  {
   "cell_type": "code",
   "execution_count": 48,
   "id": "b7f3935f-2494-4558-8b91-1899a9a5f40c",
   "metadata": {},
   "outputs": [
    {
     "data": {
      "text/plain": [
       "Text(0.5, 0, '# of Resistant Cells')"
      ]
     },
     "execution_count": 48,
     "metadata": {},
     "output_type": "execute_result"
    },
    {
     "data": {
      "image/png": "[encoded data removed]",
      "text/plain": [
       "<Figure size 640x480 with 1 Axes>"
      ]
     },
     "metadata": {},
     "output_type": "display_data"
    }
   ],
   "source": [
    "res = [sim_tube(1,0.5,500).sum() for i in range(1000)]\n",
    "plt.hist(res)\n",
    "plt.ylabel('Frequency')\n",
    "plt.xlabel('# of Resistant Cells')"
   ]
  },
  {
   "cell_type": "markdown",
   "id": "80453098-a92c-41cf-a8d9-b866dad83d4d",
   "metadata": {},
   "source": [
    "If we let $T = 2$, then the number of resistant cells should be around $n_0 ×2^2 ×(1−μ2)$. So, when $μ$ = 0.5 and $n_0$ = 250, there should be around 750 resistant cells. Let’s simulate it 1,000 times and check the distribution of the number of resistant cells."
   ]
  },
  {
   "cell_type": "code",
   "execution_count": 49,
   "id": "eac197f6-e625-4927-b034-fb28029c5591",
   "metadata": {},
   "outputs": [
    {
     "data": {
      "text/plain": [
       "Text(0.5, 0, '# of Resistant Cells')"
      ]
     },
     "execution_count": 49,
     "metadata": {},
     "output_type": "execute_result"
    },
    {
     "data": {
      "image/png": "[encoded data removed]",
      "text/plain": [
       "<Figure size 640x480 with 1 Axes>"
      ]
     },
     "metadata": {},
     "output_type": "display_data"
    }
   ],
   "source": [
    "res = [sim_tube(2,0.5,250).sum() for i in range(1000)]\n",
    "plt.hist(res)\n",
    "plt.ylabel('Frequency')\n",
    "plt.xlabel('# of Resistant Cells')"
   ]
  },
  {
   "cell_type": "markdown",
   "id": "f23f8a9f-7dec-4523-b40c-55a8ac17e63c",
   "metadata": {},
   "source": [
    "The simulator `sim_tube` seems to be working properly."
   ]
  },
  {
   "cell_type": "markdown",
   "id": "def5f5c2-6f3f-45cd-a51f-b95b6d274172",
   "metadata": {},
   "source": [
    "### Simulate resistant cells in experiment A\n",
    "In experiment A, $n_0$ cells are let grow over $T$ generations (to $n_0 × 2T$ cells). The cells are plated to $r$ plates from this tube. So, we will simulate one tube before plating. The genotypes of cells are recorded in an array called `tube_a` of length $n_0 × 2T$ ."
   ]
  },
  {
   "cell_type": "code",
   "execution_count": 51,
   "id": "10f0659f-478e-41bd-b1d5-72ea283dad4f",
   "metadata": {},
   "outputs": [
    {
     "data": {
      "text/plain": [
       "array([0, 0, 0, 0, 0, 0, 0, 0, 0, 0])"
      ]
     },
     "execution_count": 51,
     "metadata": {},
     "output_type": "execute_result"
    }
   ],
   "source": [
    "tube_a = sim_tube(T, mu, n_0)\n",
    "tube_a[:10]"
   ]
  },
  {
   "cell_type": "code",
   "execution_count": 52,
   "id": "c9e24183-ce80-40dd-8148-49637637219f",
   "metadata": {},
   "outputs": [
    {
     "data": {
      "text/plain": [
       "(1638400,)"
      ]
     },
     "execution_count": 52,
     "metadata": {},
     "output_type": "execute_result"
    }
   ],
   "source": [
    "tube_a.shape"
   ]
  },
  {
   "cell_type": "markdown",
   "id": "44573a54-3f8f-427d-92a5-9545dc5e6bb6",
   "metadata": {},
   "source": [
    "### Simulate resistant cells in experiment B\n",
    "In experiment B, there are r tubes, each of which accommodates $n_0$ cells and let them grow over $T$ generations. So, we will simulate $r$ tubes. The genotypes are recorded in an array `tubes_b` with $r$ rows and $n_0 × 2T$ columns."
   ]
  },
  {
   "cell_type": "code",
   "execution_count": 91,
   "id": "266b405b-a994-4aad-9d24-b3352485f1d6",
   "metadata": {},
   "outputs": [],
   "source": [
    "tubes_b = np.array([sim_tube(T, mu, n_0) for i in range(r)])"
   ]
  },
  {
   "cell_type": "markdown",
   "id": "4ba8622d-ee1b-4a35-bf50-c08eb9db6fcc",
   "metadata": {},
   "source": [
    "### Step 3. Simulation of plating\n",
    "In experiment A, we plate nsample cells from 1 tube to $r$ plates. In experiment B, we plate $n_{sample}$ cells from each of $r$ tubes to each of $r$ plates, respectively.\n",
    "#### Experiment A\n",
    "In experiment A, given a vector of genotypes of cells in a tube, we want an array with $r$ rows and $n_{sample}$ columns representing genotypes of cells. One can shuffle the input vector representing genotypes of cells in a tube and take the first $n_{sample}$ cells for the first plate, second $n_{sample}$ cells for the second plate, and so on.\n",
    "\n",
    "Let’s start with plating 2 cells from 6 cells in a tube. Genotypes of the plated 2 cells can be stored in an array."
   ]
  },
  {
   "cell_type": "code",
   "execution_count": 77,
   "id": "2098d4c9-4776-4d63-827f-a460c4761280",
   "metadata": {},
   "outputs": [
    {
     "data": {
      "text/plain": [
       "array([0, 0])"
      ]
     },
     "execution_count": 77,
     "metadata": {},
     "output_type": "execute_result"
    }
   ],
   "source": [
    "n_plates =  1\n",
    "n_cells_plate = 2\n",
    "tube_test = np.array([1, 1, 0, 0, 0, 0])\n",
    "# shuffle\n",
    "np.random.shuffle(tube_test)\n",
    "plate_test = tube_test[:n_cells_plate]\n",
    "plate_test"
   ]
  },
  {
   "cell_type": "markdown",
   "id": "36fa70fa-8b4f-4c3e-a4ec-350a838823a5",
   "metadata": {},
   "source": [
    "Then let’s try plating 2 cells from 10 cells in each of 3 plates. The output genotypes are stored in a matrix with 3 rows and 2 columns."
   ]
  },
  {
   "cell_type": "code",
   "execution_count": 82,
   "id": "2cc70b2c-02b7-46f5-b443-9cffceb45f5b",
   "metadata": {},
   "outputs": [
    {
     "data": {
      "text/plain": [
       "array([[0, 1],\n",
       "       [0, 0],\n",
       "       [0, 0]])"
      ]
     },
     "execution_count": 82,
     "metadata": {},
     "output_type": "execute_result"
    }
   ],
   "source": [
    "n_plates = 3\n",
    "n_cells_plate = 2\n",
    "tube_test = np.array([1, 1, 0, 0, 0, 0, 1, 0, 1, 0])\n",
    "# shuffle\n",
    "np.random.shuffle(tube_test)\n",
    "# sample\n",
    "plates_test = tube_test[:n_plates*n_cells_plate].reshape(n_plates,n_cells_plate)\n",
    "plates_test"
   ]
  },
  {
   "cell_type": "markdown",
   "id": "399bed60-92f3-4ffe-9704-ac8c55f7b263",
   "metadata": {},
   "source": [
    "Based on the above exercise we can write a function `sim_plate`."
   ]
  },
  {
   "cell_type": "code",
   "execution_count": 83,
   "id": "4840ed36-a1f1-465a-a2ef-84cfe2fa9b14",
   "metadata": {},
   "outputs": [],
   "source": [
    "def sim_plate(tube, n_plates, n_cells_plate):\n",
    "    np.random.shuffle(tube)\n",
    "    plates = tube[:n_plates*n_cells_plate].reshape(n_plates,n_cells_plate)\n",
    "    return plates"
   ]
  },
  {
   "cell_type": "markdown",
   "id": "acde5a27-0553-4187-bddd-920c95f7e31c",
   "metadata": {},
   "source": [
    "By running this function on our simulated `tube_a`, we can obtain `plates_a`, which is an array of genotypes."
   ]
  },
  {
   "cell_type": "code",
   "execution_count": 89,
   "id": "1a3176ae-ead4-4ffd-8a97-2c6663b22eb2",
   "metadata": {},
   "outputs": [
    {
     "data": {
      "text/plain": [
       "(50, 10000)"
      ]
     },
     "execution_count": 89,
     "metadata": {},
     "output_type": "execute_result"
    }
   ],
   "source": [
    "plates_a = sim_plate(tube_a, r, n_sample)\n",
    "plates_a.shape"
   ]
  },
  {
   "cell_type": "markdown",
   "id": "33b0919a-16e1-4486-9ddb-d1ca1314b377",
   "metadata": {},
   "source": [
    "### Experiment B\n",
    "In experiment B, given an array with $r$ rows representing genotypes of cells in $r$ tubes, we want an array with $r$ rows and $n_{sample}$ columns representing the genotypes of the cells. Conveniently, for each tube we can use `sim_plate` function with `n_plates = 1`.\n",
    "\n",
    "For example, for the first tube,"
   ]
  },
  {
   "cell_type": "code",
   "execution_count": 96,
   "id": "6d21a573-5711-4d9f-828c-34230bd8bb2c",
   "metadata": {},
   "outputs": [],
   "source": [
    "plate_b_0 = sim_plate(tubes_b[0,],1,n_sample)"
   ]
  },
  {
   "cell_type": "markdown",
   "id": "a0e03bb0-b4e8-4299-8187-b52d382a0e75",
   "metadata": {},
   "source": [
    "We can apply this to each row of array `tubes_b` (and squeeze the output) to obtain a matrix of genotypes\n",
    "`plates_b`."
   ]
  },
  {
   "cell_type": "code",
   "execution_count": 107,
   "id": "dbc273ed-3dfc-415c-ba39-17ff79f0bb3e",
   "metadata": {},
   "outputs": [],
   "source": [
    "plates_b = np.array([sim_plate(tubes_b[i,],1,n_sample) for i in range(r)]).squeeze()"
   ]
  },
  {
   "cell_type": "markdown",
   "id": "cf589511-5572-4939-85c6-6c0a5d848b97",
   "metadata": {},
   "source": [
    "### Step 4. Compute mean and variance\n",
    "Both `plates_a` and `plates_b` are arrays whose rows corresponds to a replicate plate. Each entry in the array is genotype, where 0 is wild type and 1 is resistant mutant. Therefore the sum of each row is the number of resistant colonies in each plate. We can summarise the results in two values: mean and variance of the number of colonies per plate."
   ]
  },
  {
   "cell_type": "code",
   "execution_count": 120,
   "id": "6d00d07a-731c-4151-922a-ba343cfdc00a",
   "metadata": {},
   "outputs": [
    {
     "name": "stdout",
     "output_type": "stream",
     "text": [
      "mean a = 152.08\n",
      "mean b = 145.98\n",
      "var a = 165.55360000000002\n",
      "var b = 1082.3396\n"
     ]
    }
   ],
   "source": [
    "print('mean a = %s\\nmean b = %s\\nvar a = %s\\nvar b = %s' % (plates_a.sum(axis = 1).mean(),\n",
    "                                                            plates_b.sum(axis = 1).mean(),\n",
    "                                                            plates_a.sum(axis = 1).var(),\n",
    "                                                            plates_b.sum(axis = 1).var()))"
   ]
  },
  {
   "cell_type": "markdown",
   "id": "36278180-76d8-408c-8406-b123f7fbe860",
   "metadata": {},
   "source": [
    "### Implementation of induced mutation model\n",
    "In both experiments A and B, cells should mutate at the same rate (mutation rate) after plating. So, this is binomial sampling with rate parameter of $μ$ and size parameter of $n_{sample}$"
   ]
  },
  {
   "cell_type": "code",
   "execution_count": 127,
   "id": "d27786ba-9f7c-4349-ba2a-3ba88b9e9ab0",
   "metadata": {},
   "outputs": [
    {
     "name": "stdout",
     "output_type": "stream",
     "text": [
      "mean a = 10.14\n",
      "mean b = 9.4\n",
      "var a = 9.4804\n",
      "var b = 9.32\n"
     ]
    }
   ],
   "source": [
    "def sim_ld_ind(n_plates, n_sample, mu):\n",
    "    plates_a = np.random.binomial(n_sample, mu, n_plates)\n",
    "    plates_b = np.random.binomial(n_sample, mu, n_plates)\n",
    "    res = (plates_a.mean(),plates_b.mean(),plates_a.var(),plates_b.var())\n",
    "    return res\n",
    "\n",
    "print('mean a = %s\\nmean b = %s\\nvar a = %s\\nvar b = %s' % sim_ld_ind(r, n_sample, mu))"
   ]
  },
  {
   "cell_type": "markdown",
   "id": "1fbcd738-5cdb-4bba-9ad4-94b3e1f15e88",
   "metadata": {},
   "source": [
    "### Questions\n",
    "Let’s address questions with our simulators. Note that our simulators are not very well optimised, and may not work well for certain situations (e.g. large $T$, large $μ$). We will further optimise the simulators in the next section, but you are already ready to play around with what you have to get an intuition of the experiment.\n",
    "\n",
    "1) For a mutation rate of 1e-4 and 15 generations, what is the expectation for the variance of A and B for model 1?\n",
    "1) For model 2, what value for mu would result in the same average number of resistant colonies in experiments A and B as was seen in model 1?\n",
    "1) Using mu = 1e-4 in model 1, and the value of mu you found in model 2, compare the difference in variance between A and B for both models. Under the parameters used for our simulation, would this experimental design distinguish between models 1 and 2.  \n",
    "2) At $mu$ and $T$ from question 1, how does changing the number of replicates $r$ effect the results? What about changing how many cells you sample per plate $n_{sample}$?\n",
    "3) What is the minimum number of generations needed to see a difference in A and B at $mu = 1e-4$ for model 1?\n",
    "4) Try changing the code to induce some variation in $n_{sample}$ for each replicate plate. How does this effect the results?\n",
    "5) Finally, try implementing some standing genetic variation for resistance in the ancestral population from which each tube is started. Does this disrupt the experimental design?"
   ]
  },
  {
   "cell_type": "markdown",
   "id": "bd385e77-f5a0-4b9f-8656-d2b023f5184a",
   "metadata": {
    "tags": []
   },
   "source": [
    "# Further optimisations of the spontaneous mutation simulator\n",
    "In the above simulators `sim_tube` and `sim_plate`, we recorded the genotypes of all cells in tubes and plates until the final step. This is very inefficient for our purpose. The information of index of the genotype vector is not used; even if someone shuffled our vector at any step of our simulation, we would not suffer. The only information we need is actually the numbers of wild type cells and resistant cells, instead of the genotype for millions of cells.\n",
    "\n",
    "Below, we will try to improve the scripts to make it scalable and faster.\n",
    "\n",
    "### Step 1. Simulation of passaging cells in a tube from a flask\n",
    "Instead of recording genotypes of $n_0$ cells, we can have two objects to keep the number of wild type and resistant cells."
   ]
  },
  {
   "cell_type": "code",
   "execution_count": 255,
   "id": "97d53f30-d6ca-45f1-b053-e1bea5849c7f",
   "metadata": {},
   "outputs": [],
   "source": [
    "n_wt = n_0\n",
    "n_res = 0"
   ]
  },
  {
   "cell_type": "markdown",
   "id": "1865d563-f2d8-44fb-bbe8-6f484620c9c3",
   "metadata": {},
   "source": [
    "### Step 2. Growth\n",
    "In each generation, daughter cells of resistant cells are all resistant. Some of daughter cells of wild type cells mutate to resistant, and the number of such cells follow a binomial distribution with the size parameter of $2 x n$ wild type parent cells."
   ]
  },
  {
   "cell_type": "code",
   "execution_count": 257,
   "id": "8603634f-9c07-49f0-ab24-6e725c3516f2",
   "metadata": {},
   "outputs": [
    {
     "name": "stdout",
     "output_type": "stream",
     "text": [
      "wt = 797038, res = 22162\n"
     ]
    }
   ],
   "source": [
    "for t in range(T):\n",
    "    n_res = 2*n_res + np.random.binomial(2*n_wt, mu)\n",
    "    n_wt = n_0*2**t - n_res\n",
    "print('wt = %s, res = %s' % (n_wt,n_res))"
   ]
  },
  {
   "cell_type": "markdown",
   "id": "72f24ceb-198c-4c93-a15c-c445a37f6286",
   "metadata": {},
   "source": [
    "### Make a function `sim_tube_count`"
   ]
  },
  {
   "cell_type": "code",
   "execution_count": 284,
   "id": "1f3db84d-a034-4aa5-bd30-88af54005d01",
   "metadata": {},
   "outputs": [],
   "source": [
    "def sim_tube_count(T, mu, n_0, n_res_init = 0):\n",
    "    n_wt = n_0 - n_res_init\n",
    "    n_res = n_res_init\n",
    "    for t in range(T):\n",
    "        n_res = 2*n_res + np.random.binomial(2*n_wt, mu)\n",
    "        n_wt = n_0*2**(t + 1) - n_res\n",
    "    return n_res, n_wt"
   ]
  },
  {
   "cell_type": "markdown",
   "id": "f4060b42-a89a-4040-9d8d-f42b1b099efe",
   "metadata": {},
   "source": [
    "Note that I added an optional argument `n_res_init`, the number of resistant cells in the initial passage, reflecting standing variation (default = 0).\n",
    "\n",
    "Now, this `sim_tube_count` returns an integer, the number of resistant cells. By using this function, we can simulate the number of resistant cells in experiment A."
   ]
  },
  {
   "cell_type": "code",
   "execution_count": 285,
   "id": "1be6cb2d-c8e3-45e2-b0c0-ca1538344d7f",
   "metadata": {},
   "outputs": [],
   "source": [
    "tube_count_a = sim_tube_count(T, mu, n_0)"
   ]
  },
  {
   "cell_type": "markdown",
   "id": "6376b4d6-2d51-4eb3-9498-1c967a6048cf",
   "metadata": {},
   "source": [
    "By applying this function, we can simulate the number of resistant cells in experiment B. The counts are\n",
    "stored in an array `tubes_count_b`."
   ]
  },
  {
   "cell_type": "code",
   "execution_count": 286,
   "id": "eec5f059-26d8-43bb-9f31-e28621001e1f",
   "metadata": {},
   "outputs": [],
   "source": [
    "tubes_count_b = np.array([sim_tube_count(T, mu, n_0) for i in range(r)])"
   ]
  },
  {
   "cell_type": "markdown",
   "id": "c7718070-436b-4bb6-9f1c-8d14f2eb7ab6",
   "metadata": {
    "tags": []
   },
   "source": [
    "### Step 3. Simulation of plating\n",
    "Before plating, we have $n_{res}$ resistant cells and $n_{wt}$ wild type cells. In experiment A, we sample $n_{sample}$ cells without replacement sequentially over $r$ times. Each plating is equivalent to taking some balls from a box with some red and blue balls without replacement, and the number of balls with one colour follows a hypergeometric distribution."
   ]
  },
  {
   "cell_type": "code",
   "execution_count": 287,
   "id": "a9af0e8e-7fc1-4246-8aa5-2c279a844aa2",
   "metadata": {},
   "outputs": [],
   "source": [
    "def sim_plate_count(n_res, n_wt, r, n_sample):\n",
    "    plates_count = np.empty(r)\n",
    "    for i in range(r):\n",
    "        plates_count[i] = np.random.hypergeometric(n_res,n_wt,n_sample)\n",
    "        n_res = n_res - plates_count[i]\n",
    "        n_wt = n_wt - (n_sample - plates_count[i])\n",
    "    return plates_count"
   ]
  },
  {
   "cell_type": "markdown",
   "id": "e4f39d80-4ef8-49bb-8f0a-e03e971897fa",
   "metadata": {},
   "source": [
    "For experiment A, we use this function to obtain the number of resistant cells on $r$ plates."
   ]
  },
  {
   "cell_type": "code",
   "execution_count": 288,
   "id": "baca44a6-6434-4c44-b033-b15009183075",
   "metadata": {},
   "outputs": [],
   "source": [
    "plates_count_a = sim_plate_count(tube_count_a[0],tube_count_a[1],r,n_sample)"
   ]
  },
  {
   "cell_type": "markdown",
   "id": "b98515e2-80e0-48a8-bfe4-6209b030e1b6",
   "metadata": {},
   "source": [
    "For experiment B, we can run this function with `n_plates = 1` $r$ times."
   ]
  },
  {
   "cell_type": "code",
   "execution_count": 289,
   "id": "3ba80fbf-704f-4ad0-9733-9b481bf3ae49",
   "metadata": {},
   "outputs": [],
   "source": [
    "plates_count_b = np.array([sim_plate_count(tubes_count_b[i][0],tubes_count_b[i][1],1,n_sample) for i in range(r)]).squeeze()"
   ]
  },
  {
   "cell_type": "markdown",
   "id": "18c6ad53-8d39-43a2-bb56-5d516bab5232",
   "metadata": {
    "tags": []
   },
   "source": [
    "### Step 4. Compute mean and variance"
   ]
  },
  {
   "cell_type": "code",
   "execution_count": 290,
   "id": "cf9512cb-0451-4377-8f46-579d47c51673",
   "metadata": {},
   "outputs": [
    {
     "name": "stdout",
     "output_type": "stream",
     "text": [
      "mean a = 209.92\n",
      "mean b = 137.4\n",
      "var a = 194.11360000000002\n",
      "var b = 996.0800000000002\n"
     ]
    }
   ],
   "source": [
    "print('mean a = %s\\nmean b = %s\\nvar a = %s\\nvar b = %s' % (plates_count_a.mean(),\n",
    "                                                            plates_count_b.mean(),\n",
    "                                                            plates_count_a.var(),\n",
    "                                                            plates_count_b.var()))"
   ]
  },
  {
   "cell_type": "markdown",
   "id": "377f5640-3aa5-469b-8c5d-78695856fc3c",
   "metadata": {},
   "source": [
    "### Make a class to do all. . .\n",
    "Classes kep code neat and are useful to use for simulations that involve many functions"
   ]
  },
  {
   "cell_type": "code",
   "execution_count": 73,
   "id": "3f2a856b-a582-42fa-ba08-8fb0b7a0dc40",
   "metadata": {},
   "outputs": [],
   "source": [
    "class sim_ld:\n",
    "    def __init__(self,T, mu, n_0, n_sample, r, n_res_init = 0):\n",
    "        self.T = T\n",
    "        self.mu = mu\n",
    "        self.n_0 = n_0\n",
    "        self.n_sample = n_sample\n",
    "        self.r = r\n",
    "        self.n_res_init = n_res_init\n",
    "        \n",
    "    def sim_tube_count(self):\n",
    "        n_wt = self.n_0 - self.n_res_init\n",
    "        n_res = self.n_res_init\n",
    "        for t in range(self.T):\n",
    "            n_res = 2*n_res + np.random.binomial(2*n_wt, self.mu)\n",
    "            n_wt = n_0*2**(t + 1) - n_res\n",
    "        return n_res, n_wt \n",
    "\n",
    "    def sim_plate_count(self, n_res, n_wt, r):\n",
    "        plates_count = np.empty(r)\n",
    "        for i in range(r):\n",
    "            try: \n",
    "                plates_count[i] = np.random.hypergeometric(n_res,n_wt,self.n_sample)\n",
    "            except ValueError: # included this to catch instances when all the cells in a tube get sampled (i.e. for low T)\n",
    "                print('less cells in tube than n_sample')\n",
    "                break\n",
    "            n_res = n_res - plates_count[i]\n",
    "            n_wt = n_wt - (self.n_sample - plates_count[i])\n",
    "        return plates_count\n",
    "\n",
    "    def simulate_model1(self):\n",
    "        tube_count_a = self.sim_tube_count()\n",
    "        tubes_count_b = np.array([self.sim_tube_count() for i in range(self.r)])\n",
    "        plates_count_a = self.sim_plate_count(tube_count_a[0],tube_count_a[1], self.r)\n",
    "        plates_count_b = np.array([self.sim_plate_count(tubes_count_b[i][0],tubes_count_b[i][1],1) for i in range(self.r)]).squeeze()\n",
    "        vals = (plates_count_a.mean(),\n",
    "                plates_count_b.mean(),\n",
    "                plates_count_a.var(),\n",
    "                plates_count_b.var())\n",
    "        return vals\n",
    "    \n",
    "    def simulate_model2(self):\n",
    "        plates_a = np.random.binomial(self.n_sample, self.mu, self.r)\n",
    "        plates_b = np.random.binomial(self.n_sample, self.mu, self.r)\n",
    "        vals = (plates_a.mean(),\n",
    "               plates_b.mean(),\n",
    "               plates_a.var(),\n",
    "               plates_b.var())\n",
    "        return vals"
   ]
  },
  {
   "cell_type": "code",
   "execution_count": 99,
   "id": "6af8145d-6e51-4dbf-822b-cedd9ba579a0",
   "metadata": {},
   "outputs": [
    {
     "data": {
      "image/png": "[encoded data removed]",
      "text/plain": [
       "<Figure size 640x480 with 1 Axes>"
      ]
     },
     "metadata": {},
     "output_type": "display_data"
    }
   ],
   "source": [
    "T = 15 # Number of generations\n",
    "n_0 = 100 # Number of cells to in a tube\n",
    "mu = 1e-2 # Mutation rate\n",
    "r = 10 # Number of plates (A) or tubes (B) \n",
    "n_sample = 1000 # Number of cells to plate\n",
    "\n",
    "res_mod1 = np.empty(500)\n",
    "res_mod2 = np.empty(500)\n",
    "for i in range(500):\n",
    "    vals_1 = sim_ld(T,mu,n_0,n_sample,r).simulate_model1()\n",
    "    res_mod1[i] = vals_1[3] - vals_1[2]\n",
    "    vals_2 = sim_ld(T,mu,n_0,n_sample,r).simulate_model2()\n",
    "    res_mod2[i] = vals_2[3] - vals_2[2]\n",
    "    \n",
    "plt.hist(res_mod1, bins = 50);\n",
    "plt.hist(res_mod2, bins = 50);"
   ]
  },
  {
   "cell_type": "code",
   "execution_count": 108,
   "id": "6a0797d3-26b9-4576-a887-d589afb24d17",
   "metadata": {},
   "outputs": [
    {
     "data": {
      "image/png": "[encoded data removed]",
      "text/plain": [
       "<Figure size 640x480 with 1 Axes>"
      ]
     },
     "metadata": {},
     "output_type": "display_data"
    }
   ],
   "source": [
    "T = 40 # Number of generations\n",
    "n_0 = 100 # Number of cells to in a tube\n",
    "mu_1 = 1e-4 # Mutation rate in mod 1\n",
    "mu_2 = 5e-3 # Mutation rate in mod 2\n",
    "r = 10 # Number of plates (A) or tubes (B) \n",
    "n_sample = 10000 # Number of cells to plate\n",
    "\n",
    "res_mod1 = np.empty(500)\n",
    "res_mod2 = np.empty(500)\n",
    "for i in range(500):\n",
    "    vals_1 = sim_ld(T,mu_1,n_0,n_sample,r).simulate_model1()\n",
    "    res_mod1[i] = vals_1[3] - vals_1[2]\n",
    "    vals_2 = sim_ld(T,mu_2,n_0,n_sample,r).simulate_model2()\n",
    "    res_mod2[i] = vals_2[3] - vals_2[2]\n",
    "    \n",
    "sns.kdeplot(res_mod1);\n",
    "sns.kdeplot(res_mod2);"
   ]
  },
  {
   "cell_type": "code",
   "execution_count": null,
   "id": "00069fc7-b886-44fb-b35e-f86c8e747f9c",
   "metadata": {},
   "outputs": [],
   "source": []
  }
 ],
 "metadata": {
  "kernelspec": {
   "display_name": "Python 3 (ipykernel)",
   "language": "python",
   "name": "python3"
  },
  "language_info": {
   "codemirror_mode": {
    "name": "ipython",
    "version": 3
   },
   "file_extension": ".py",
   "mimetype": "text/x-python",
   "name": "python",
   "nbconvert_exporter": "python",
   "pygments_lexer": "ipython3",
   "version": "3.10.12"
  }
 },
 "nbformat": 4,
 "nbformat_minor": 5
}
