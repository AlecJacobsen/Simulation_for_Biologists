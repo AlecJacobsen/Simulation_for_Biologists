{
 "cells": [
  {
   "cell_type": "markdown",
   "id": "b92e5d05-c8c8-4a57-a89c-b1456c0ea66b",
   "metadata": {},
   "source": [
    "# Simulating the Luria-Delbrück Experiment"
   ]
  },
  {
   "cell_type": "markdown",
   "id": "6d5fb632-ae7c-4afd-bf7d-8ec429be2cf2",
   "metadata": {},
   "source": [
    "### Are mutations induced or do they arise spontaneously?\n",
    "\n",
    "This was the question faced by Salvador Lauria and Max Delbrück in 1943 when they devised their seminal fluctuation test experiment. As a modern student of biology, the answer may seem obvious, but at the time it remained a mystery. The inspiration for such a question comes from observing the interaction between bacteria and bacteria phages (i.e. viruses that infect bacteria). A colony of bacteria growing in a flask will eventually turn the medium in the flask cloudy as the number of cells increases. It was noted that adding an equal number of bacteria phages to the flask would clear the water, as the bacteria phages lysed open the bacterial cells. However, after some time the medium in the flask would become cloudy again. This is because the bacterial colony had developed mutations in its genomes that granted resistance to the phages. The question was then \"how did these resistance mutations come about?\""
   ]
  },
  {
   "cell_type": "markdown",
   "id": "bace87c4-326f-4e4a-b23d-f3c5fdcf7099",
   "metadata": {},
   "source": [
    "<img src='graphics/Grupo_de_los_Fagos-239509034.jpeg'/> \n",
    "\n"
   ]
  },
  {
   "cell_type": "markdown",
   "id": "dbf1e1cf-6b26-4557-8b55-a61e6b1631b9",
   "metadata": {},
   "source": [
    "Lauria and Delbrück proposed two simple models for the evolution of resistance:\n",
    "\n",
    "**1) Mutations in the bacteria genomes resulting in resistance occurred in response to the bacteria phage (i.e. mutations were induced)**\n",
    "\n",
    "or \n",
    "\n",
    "**2) Mutations occurred spontaneously during colony growth, and bacteria carrying these mutations were already resistant prior to exposure to the phage**\n",
    "\n",
    "***\n",
    "\n",
    "To determine which model was correct, they devised an experiment known as the **fluctuation test**. This test proceeded as follows:\n",
    "\n",
    "First a colony of non-resistant bacteria were grown in a flask. These bacteria were then used to innoculate media in (e.g. 11) identical test tubes. The bacteria where then allowed to grow in these test tubes until they were at a certain cell density. The test tubes were then split into two groups - for the purposes of this notebook, we will call these groups A and B. One tube was put into group A, and from this tube 10 plates, already containing bacteria phages, were innoculated with bacteria. The other 10 tubes constituted group B, and from each tube a single plate, again contaning bacteria phages, was inoculated with bacteria. The number of resistant colonies were then counted on each plate.\n",
    "\n",
    "<img src='graphics/luria1.webp'/>\n",
    "\n",
    "**If the first model is true, then we would expect that the variance in the number of resistant colonies per plate would be the same for parts A and B.** This is because resistance is induced at a certain rate once the bacteria are plated out, and would not depend on what had happened while the bacteria grew in the test tubes. In other words, each plate would be an independant sample, regardless of if the bacteria came from the same test tube or not - hence equal variances.\n",
    "\n",
    "**If the second model is true, then we would expect the variance to be far greater for part B than for part A.** This is due to the fact that the resistance mutation occurs spontaneously during growth in the test tube. When plating out part A, the number of resistant colonies is representative of the frequency of resistance in the single tube, so each plate is not independant. On the other hand, in part B each tube has had an independant phase of growth, during which resistance may have spontaneously evolved early on, resulting in a high frequency of resistant colonies, or later on, resulting in few resistant colonies. This independance results in a large variance.  "
   ]
  },
  {
   "cell_type": "markdown",
   "id": "66ff691e-7452-46ec-8b77-286ce4ef0eec",
   "metadata": {},
   "source": [
    "<img src='graphics/The-Luria-and-Delbrueck-experiment-In-1943-Luria-and-Delbrueck-devised-an-experiment-to-4102026779.png'/>"
   ]
  },
  {
   "cell_type": "markdown",
   "id": "21335ac3-020f-4016-a93d-d20eeeef4f90",
   "metadata": {},
   "source": [
    "When Luria and Delbück performed this experiment, they found the later. However, what if you were in their place? How would you decide on the specifics of this experiment? How many replicates would you need, or how many bacteria would you plate out? How many generations would need to be run to see an effect at the mutation rate you would expect? Additionally, the experiment relies on the assumption that there is no standing genetic variance for resistance in the ancestral bacteria. How would violating this assumption effect the results?\n",
    "\n",
    "To answer these questions and gain an intuition for the limitations of this experimental design, **lets simulate!!**\n",
    "\n",
    "***\n",
    "\n",
    "#### But how can we go about simulating something like this? \n",
    "Heres a recommendation for how to start with a simulation in general:\n",
    "\n",
    "1) **Develop a good mental model** - make sure you understand the biology and the techical aspects of what you want to simulate.\n",
    "2) **Break it down into subprocesses** - what are the different steps involved going from initialization to final product?\n",
    "3) **Describe in (painful) detail how each subprocess works** - pretend like you to have to describe it to an alien who has never been to earth and knows nothing how the subprocess works. No detail is too insignificant! Be sure to think about potential biases.\n",
    "4) **Convert those descriptions into pseudocode, keeping in mind which data sctructures you will use** - think about which functions you will use where, and how you will store and manage your data. What is an efficent way to code this process? Do this with a pen and paper to figure out exactly how your algorithm will work.\n",
    "5) **Make the pseudocode actual code** \n",
    "\n",
    "***\n",
    "\n",
    "#### Lets see how we can do this for the Luria-Delbrück experiment \n",
    "For now we will just focus on the 2nd model, the one of spontaneous mutation.\n",
    "\n",
    "The subprocesses and their descriptions are:\n",
    "- **Initializing an ancestral population**\n",
    "    - Create a flask with a large population of non-resistant bacteria\n",
    "- **Sampling the ancestral population to create the test tubes**\n",
    "    - Randomly select n_0 cells from the ancestral flask and put these cells into new medium. Create 1 tube for part A and r tubes for part B. \n",
    "- **Growing the cultures**\n",
    "    - In each generation, every cell produces two children cells. When the children cells are formed, there is a chance that each child will mutate some resistance. These children then become the parents for the next generation. This process repeats for T generations.  \n",
    "- **Plating out**\n",
    "    - For part A:\n",
    "        - Randomly sample n_sample cells without replacement for the A tube for each plate, for r number of plates\n",
    "    - For part B:\n",
    "        - Randomly sample n_sample cells without replacement from each of r tubes for part B to create one plate per tube\n",
    "- **Computing the variance**\n",
    "    - For each plate, count the number of resistant colonies, then calculate the variances for parts A and B\n",
    "\n",
    "\n",
    "#### Now lets see how we would implement this in Python\n"
   ]
  },
  {
   "cell_type": "code",
   "execution_count": null,
   "id": "13ad106a-5eac-423e-a8f8-36ff4485cebe",
   "metadata": {},
   "outputs": [],
   "source": [
    "def run_generation(parents, mu):\n",
    "    children_1 = parents + np.random.binomial(1,mu, size = parents.shape)\n",
    "    children_2 = parents + np.random.binomial(1,mu, size = parents.shape)\n",
    "    return np.concatenate((children_1,children_2))"
   ]
  },
  {
   "cell_type": "code",
   "execution_count": null,
   "id": "0c7bd11e-c185-441d-a375-7af3259a592c",
   "metadata": {},
   "outputs": [],
   "source": [
    "def sample_no_replacement(arr,n):\n",
    "    np.random.shuffle(arr)\n",
    "    sample = arr[:n]\n",
    "    rest = arr[n:]\n",
    "    return sample, rest"
   ]
  },
  {
   "cell_type": "code",
   "execution_count": null,
   "id": "ab0f8bd5-ea7a-44ac-a425-235b52a28347",
   "metadata": {},
   "outputs": [],
   "source": [
    "mu = 1e-4\n",
    "T = 15\n",
    "r = 50\n",
    "n_0 = 100\n",
    "n_sample = 10_000\n",
    "\n",
    "anc_pop = np.zeros(1000000)\n",
    "\n",
    "#### A side ####\n",
    "parents = np.random.choice(anc_pop, size = 100, replace = False)\n",
    "# run generations\n",
    "for gen in range(T):\n",
    "    parents = run_generation(parents,mu)\n",
    "# Bianarize parents\n",
    "parents = (parents > 0).astype(int)\n",
    "# sample 50 times from tube\n",
    "plates = []\n",
    "for i in range(r):\n",
    "    sample, parents = sample_no_replacement(parents,10000)\n",
    "    plates.append(sample.sum())\n",
    "#variance of the A tube\n",
    "var_a = np.var(np.array(plates))\n",
    "\n",
    "#### B side ####\n",
    "plates = []\n",
    "for i in range(r): # simulating each tube\n",
    "    # sample parents\n",
    "    parents = np.random.choice(anc_pop, size = 100, replace = False)\n",
    "    # reproduce\n",
    "    for gen in range(T):\n",
    "        parents = run_generation(parents,mu)\n",
    "    # Bianarize parents \n",
    "    parents = (parents > 0).astype(int)\n",
    "    # sample from tube\n",
    "    plate = np.random.choice(parents, size = 10000, replace = False)\n",
    "    plates.append(plate.sum())\n",
    "# variance of the beta tubes\n",
    "var_b = np.var(np.array(plates))\n",
    "    \n",
    "print(var_a,var_b)"
   ]
  },
  {
   "cell_type": "code",
   "execution_count": null,
   "id": "55187651-1e89-44ef-bcbe-ef586bbc9700",
   "metadata": {},
   "outputs": [],
   "source": [
    "def sim_tube(mu,T,n_0):\n",
    "    n_wt = n_0\n",
    "    n_res = 0\n",
    "    for gen in range(T):\n",
    "        n_res = 2*n_res + np.random.binomial(2*n_wt, mu)\n",
    "        n_wt = n_0*2**gen - n_res\n",
    "    return np.array([n_res, n_wt])\n",
    "\n",
    "mu = 1e-6\n",
    "T = 15\n",
    "r = 50\n",
    "n_0 = 100\n",
    "n_sample = 10_000\n",
    "\n",
    "# part A\n",
    "tube = sim_tube(mu,T,n_0)\n",
    "res_A = np.empty(r,int)\n",
    "for i in range(r):\n",
    "    res_A[i] = np.random.hypergeometric(tube[0],tube[1],n_sample)\n",
    "    tube[0] = tube[0] - res_A[i]\n",
    "    tube[1] = tube[1] - (n_sample - res_A[i])\n",
    "\n",
    "\n",
    "# part B\n",
    "res_B = np.empty(r,int)\n",
    "for i in range(r):\n",
    "    tube = sim_tube(mu,T,n_0)\n",
    "    res_B[i] = np.random.hypergeometric(tube[0],tube[1],n_sample)\n",
    "    \n",
    "print(np.var(res_A), np.var(res_B))"
   ]
  }
 ],
 "metadata": {
  "kernelspec": {
   "display_name": "Python 3 (ipykernel)",
   "language": "python",
   "name": "python3"
  },
  "language_info": {
   "codemirror_mode": {
    "name": "ipython",
    "version": 3
   },
   "file_extension": ".py",
   "mimetype": "text/x-python",
   "name": "python",
   "nbconvert_exporter": "python",
   "pygments_lexer": "ipython3",
   "version": "3.10.12"
  }
 },
 "nbformat": 4,
 "nbformat_minor": 5
}
